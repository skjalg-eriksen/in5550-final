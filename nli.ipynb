{
 "cells": [
  {
   "cell_type": "code",
   "execution_count": 1,
   "metadata": {},
   "outputs": [
    {
     "data": {
      "application/javascript": [
       "/*\n",
       "    go to the project directory\n",
       "*/\n",
       "var kernel = IPython.notebook.kernel;\n",
       "var body = document.body,  \n",
       "    attribs = body.attributes;\n",
       "\n",
       "var path = attribs['data-notebook-path'].value\n",
       "console.log('path',path)\n",
       "var command = \"cd  /\" + path.substring(0, path.lastIndexOf(\"/\"));\n",
       "console.log('command', command)\n",
       "\n",
       "kernel.execute(command)\n"
      ],
      "text/plain": [
       "<IPython.core.display.Javascript object>"
      ]
     },
     "metadata": {},
     "output_type": "display_data"
    }
   ],
   "source": [
    "%%javascript\n",
    "/*\n",
    "    go to the project directory\n",
    "*/\n",
    "var kernel = IPython.notebook.kernel;\n",
    "var body = document.body,  \n",
    "    attribs = body.attributes;\n",
    "\n",
    "var path = attribs['data-notebook-path'].value\n",
    "console.log('path',path)\n",
    "var command = \"cd  /\" + path.substring(0, path.lastIndexOf(\"/\"));\n",
    "console.log('command', command)\n",
    "\n",
    "kernel.execute(command)"
   ]
  },
  {
   "cell_type": "code",
   "execution_count": 2,
   "metadata": {},
   "outputs": [
    {
     "name": "stderr",
     "output_type": "stream",
     "text": [
      "A:\\Users\\skjal\\Miniconda3\\lib\\site-packages\\gensim\\utils.py:1197: UserWarning: detected Windows; aliasing chunkize to chunkize_serial\n",
      "  warnings.warn(\"detected Windows; aliasing chunkize to chunkize_serial\")\n"
     ]
    }
   ],
   "source": [
    "import random\n",
    "import argparse\n",
    "import torch\n",
    "import torch.nn.functional as F\n",
    "from torch import nn\n",
    "from torchtext import data, vocab\n",
    "from tqdm import tqdm_notebook as tqdm\n",
    "from sklearn.metrics import f1_score\n",
    "from helpers import *\n",
    "from Models import *\n",
    "torch.manual_seed(1337)\n",
    "random.seed(13370)\n"
   ]
  },
  {
   "cell_type": "code",
   "execution_count": 4,
   "metadata": {},
   "outputs": [],
   "source": [
    "    #parser = argparse.ArgumentParser()\n",
    "    #parser.add_argument('--train', action='store', default=\"./nli5550/nli5550.test.jsonl\")\n",
    "    #parser.add_argument('--dev', action='store', default=\"./nli5550/nli5550.dev.jsonl\")\n",
    "    #parser.add_argument('--embeds', action='store', default=None)\n",
    "    #parser.add_argument('--batch_size', action='store', default=32)\n",
    "    #parser.add_argument('--lr', action='store', default=1e-3)\n",
    "    #parser.add_argument('--epochs', action='store', default=10)\n",
    "    #parser.add_argument('--name', action='store', default=\"MODEL_NAME\")\n",
    "    #parser.add_argument('--encoder', action='store', default=\"sentenceEmbedding\", choices=[\"sentenceEmbedding\", 'convNet'])\n",
    "    #args = parser.parse_args()\n",
    "    \n",
    "args = argparse.Namespace()\n",
    "args.train = \"nli5550/nli5550.train.jsonl\"\n",
    "args.dev = \"nli5550/nli5550.dev.jsonl\"\n",
    "args.batch_size = 32\n",
    "args.lr = 1e-3\n",
    "args.epochs = 10\n",
    "args.name = 'testing-rnnr'\n",
    "args.encoder = \"sentenceEmbedding\" \n",
    "#args.encoder = 'convNet'\n",
    "args.split = 0.1\n",
    "args.embeds = None"
   ]
  },
  {
   "cell_type": "code",
   "execution_count": 5,
   "metadata": {},
   "outputs": [],
   "source": [
    "try:\n",
    "    from tensorboardX import SummaryWriter\n",
    "    writer = SummaryWriter('./runs/{}'.format(args.name))\n",
    "except ImportError:\n",
    "    writer = None"
   ]
  },
  {
   "cell_type": "code",
   "execution_count": 6,
   "metadata": {},
   "outputs": [],
   "source": [
    "\n",
    "token_field = data.Field(sequential=True, batch_first=True, include_lengths=True, \n",
    "                         tokenize=lambda x: x.split(), preprocessing=lambda x: x[1].split())\n",
    "label_field = data.Field(sequential=False, batch_first=True, preprocessing=lambda x: x[1])\n",
    "NaF = ('none', None)\n",
    "\n",
    "fields = [\n",
    "            NaF, #('annotator_labels', label_field), \n",
    "            NaF, # captionID\n",
    "            ('gold_label', label_field), \n",
    "            NaF, # pairID\n",
    "            NaF, #('sentence1', token_field),\n",
    "            NaF, #('sentence1_parse', token_field),\n",
    "            NaF, #('sentence2', token_field),\n",
    "            NaF, #('sentence2_parse', token_field),\n",
    "            ('sentence1_tok', token_field),\n",
    "            ('sentence2_tok', token_field)\n",
    "        ]\n"
   ]
  },
  {
   "cell_type": "code",
   "execution_count": 7,
   "metadata": {},
   "outputs": [],
   "source": [
    "def train(model, iterator, criterion, optimiser, epoch, writer=None):\n",
    "    \n",
    "    model.train()\n",
    "    pbar = tqdm(total=len(iterator.data()))\n",
    "    pbar.set_description('Train')\n",
    "    accuracy, total = 0, 0\n",
    "    total_loss = 0\n",
    "    iterator.init_epoch()\n",
    "    for n, batch in enumerate(iterator):\n",
    "        optimiser.zero_grad()\n",
    "        \n",
    "        predictions = model(batch)\n",
    "        gold = batch.gold_label\n",
    "        loss = criterion(predictions, gold) + model.encoder.P\n",
    "        \n",
    "        predmax = predictions.argmax(dim=-1)\n",
    "        total_loss += loss.item()\n",
    "        accuracy += ( predmax== gold).nonzero().size(0)\n",
    "        total += predmax.size(0)\n",
    "        \n",
    "        loss.backward()\n",
    "        optimiser.step()\n",
    "        pbar.update( len(batch) ) # batch_size\n",
    "        pbar.set_postfix(loss=loss.item())\n",
    "        if writer is not None: writer.add_scalar('Train/Loss', loss.item(), n)\n",
    "        \n",
    "    if writer is not None: writer.add_scalar('Train/total_loss', total_loss, epoch)\n",
    "    if writer is not None: writer.add_scalar('Train/mean_loss', total_loss/total, epoch)\n",
    "    if writer is not None: writer.add_scalar('Train/accuracy', accuracy/total, epoch)\n",
    "    \n",
    "    pbar.close()\n",
    "\n",
    "def evaluate(model, iterator, epoch, writer=None):\n",
    "    model.eval()\n",
    "    accuracy, total = 0, 0\n",
    "    \n",
    "    pbar = tqdm(total=len(iterator.data()))\n",
    "    pbar.set_description('Evaluate')\n",
    "    for n, batch in enumerate(iterator):\n",
    "        predictions = model(batch).argmax(dim=-1)\n",
    "        gold = batch.gold_label\n",
    "        accuracy += (predictions == gold).nonzero().size(0)\n",
    "        total += predictions.size(0)\n",
    "        \n",
    "        pbar.update( len(batch) ) # batch_size\n",
    "        pbar.set_postfix(accuracy=accuracy/total)\n",
    "        \n",
    "    if writer is not None: writer.add_scalar('Dev/accuracy', accuracy/total, epoch)\n",
    "    print(\"> dev accuracy: {}/{} = {}\".format(accuracy, total, accuracy/total))\n",
    "    pbar.close()"
   ]
  },
  {
   "cell_type": "code",
   "execution_count": 8,
   "metadata": {},
   "outputs": [],
   "source": [
    "train_dataset = data.Dataset( load_jsonl_examples(args.train, fields) , fields=fields).split(args.split)[0]\n",
    "dev_dataset = data.Dataset( load_jsonl_examples(args.dev, fields) , fields=fields)"
   ]
  },
  {
   "cell_type": "code",
   "execution_count": 9,
   "metadata": {},
   "outputs": [
    {
     "name": "stdout",
     "output_type": "stream",
     "text": [
      "train_dataset lenght:\t55015\n",
      "dev_dataset lenght:\t10000\n"
     ]
    }
   ],
   "source": [
    "print( 'train_dataset lenght:\\t{}'.format(len(train_dataset)))\n",
    "print( 'dev_dataset lenght:\\t{}'.format(len(dev_dataset)))"
   ]
  },
  {
   "cell_type": "code",
   "execution_count": 10,
   "metadata": {},
   "outputs": [],
   "source": [
    "if args.embeds is not None:\n",
    "    _vecs = vocab.Vectors(args.embeds)\n",
    "else:\n",
    "    _vecs = \"glove.6B.100d\"\n",
    "\n",
    "token_field.build_vocab(train_dataset, vectors=_vecs)\n",
    "label_field.build_vocab(train_dataset)"
   ]
  },
  {
   "cell_type": "code",
   "execution_count": 11,
   "metadata": {},
   "outputs": [],
   "source": [
    "train_iter = data.Iterator(train_dataset, batch_size=args.batch_size, train=True, sort=True, repeat=False, \n",
    "                            sort_key=lambda x: (len(x.sentence1_tok)+len(x.sentence1_tok))/2)\n",
    "dev_iter = data.Iterator(dev_dataset, batch_size=1, train=False, sort=False)"
   ]
  },
  {
   "cell_type": "code",
   "execution_count": 29,
   "metadata": {},
   "outputs": [
    {
     "name": "stdout",
     "output_type": "stream",
     "text": [
      "Help on Counter in module collections object:\n",
      "\n",
      "class Counter(builtins.dict)\n",
      " |  Counter(*args, **kwds)\n",
      " |  \n",
      " |  Dict subclass for counting hashable items.  Sometimes called a bag\n",
      " |  or multiset.  Elements are stored as dictionary keys and their counts\n",
      " |  are stored as dictionary values.\n",
      " |  \n",
      " |  >>> c = Counter('abcdeabcdabcaba')  # count elements from a string\n",
      " |  \n",
      " |  >>> c.most_common(3)                # three most common elements\n",
      " |  [('a', 5), ('b', 4), ('c', 3)]\n",
      " |  >>> sorted(c)                       # list all unique elements\n",
      " |  ['a', 'b', 'c', 'd', 'e']\n",
      " |  >>> ''.join(sorted(c.elements()))   # list elements with repetitions\n",
      " |  'aaaaabbbbcccdde'\n",
      " |  >>> sum(c.values())                 # total of all counts\n",
      " |  15\n",
      " |  \n",
      " |  >>> c['a']                          # count of letter 'a'\n",
      " |  5\n",
      " |  >>> for elem in 'shazam':           # update counts from an iterable\n",
      " |  ...     c[elem] += 1                # by adding 1 to each element's count\n",
      " |  >>> c['a']                          # now there are seven 'a'\n",
      " |  7\n",
      " |  >>> del c['b']                      # remove all 'b'\n",
      " |  >>> c['b']                          # now there are zero 'b'\n",
      " |  0\n",
      " |  \n",
      " |  >>> d = Counter('simsalabim')       # make another counter\n",
      " |  >>> c.update(d)                     # add in the second counter\n",
      " |  >>> c['a']                          # now there are nine 'a'\n",
      " |  9\n",
      " |  \n",
      " |  >>> c.clear()                       # empty the counter\n",
      " |  >>> c\n",
      " |  Counter()\n",
      " |  \n",
      " |  Note:  If a count is set to zero or reduced to zero, it will remain\n",
      " |  in the counter until the entry is deleted or the counter is cleared:\n",
      " |  \n",
      " |  >>> c = Counter('aaabbc')\n",
      " |  >>> c['b'] -= 2                     # reduce the count of 'b' by two\n",
      " |  >>> c.most_common()                 # 'b' is still in, but its count is zero\n",
      " |  [('a', 3), ('c', 1), ('b', 0)]\n",
      " |  \n",
      " |  Method resolution order:\n",
      " |      Counter\n",
      " |      builtins.dict\n",
      " |      builtins.object\n",
      " |  \n",
      " |  Methods defined here:\n",
      " |  \n",
      " |  __add__(self, other)\n",
      " |      Add counts from two counters.\n",
      " |      \n",
      " |      >>> Counter('abbb') + Counter('bcc')\n",
      " |      Counter({'b': 4, 'c': 2, 'a': 1})\n",
      " |  \n",
      " |  __and__(self, other)\n",
      " |      Intersection is the minimum of corresponding counts.\n",
      " |      \n",
      " |      >>> Counter('abbb') & Counter('bcc')\n",
      " |      Counter({'b': 1})\n",
      " |  \n",
      " |  __delitem__(self, elem)\n",
      " |      Like dict.__delitem__() but does not raise KeyError for missing values.\n",
      " |  \n",
      " |  __iadd__(self, other)\n",
      " |      Inplace add from another counter, keeping only positive counts.\n",
      " |      \n",
      " |      >>> c = Counter('abbb')\n",
      " |      >>> c += Counter('bcc')\n",
      " |      >>> c\n",
      " |      Counter({'b': 4, 'c': 2, 'a': 1})\n",
      " |  \n",
      " |  __iand__(self, other)\n",
      " |      Inplace intersection is the minimum of corresponding counts.\n",
      " |      \n",
      " |      >>> c = Counter('abbb')\n",
      " |      >>> c &= Counter('bcc')\n",
      " |      >>> c\n",
      " |      Counter({'b': 1})\n",
      " |  \n",
      " |  __init__(*args, **kwds)\n",
      " |      Create a new, empty Counter object.  And if given, count elements\n",
      " |      from an input iterable.  Or, initialize the count from another mapping\n",
      " |      of elements to their counts.\n",
      " |      \n",
      " |      >>> c = Counter()                           # a new, empty counter\n",
      " |      >>> c = Counter('gallahad')                 # a new counter from an iterable\n",
      " |      >>> c = Counter({'a': 4, 'b': 2})           # a new counter from a mapping\n",
      " |      >>> c = Counter(a=4, b=2)                   # a new counter from keyword args\n",
      " |  \n",
      " |  __ior__(self, other)\n",
      " |      Inplace union is the maximum of value from either counter.\n",
      " |      \n",
      " |      >>> c = Counter('abbb')\n",
      " |      >>> c |= Counter('bcc')\n",
      " |      >>> c\n",
      " |      Counter({'b': 3, 'c': 2, 'a': 1})\n",
      " |  \n",
      " |  __isub__(self, other)\n",
      " |      Inplace subtract counter, but keep only results with positive counts.\n",
      " |      \n",
      " |      >>> c = Counter('abbbc')\n",
      " |      >>> c -= Counter('bccd')\n",
      " |      >>> c\n",
      " |      Counter({'b': 2, 'a': 1})\n",
      " |  \n",
      " |  __missing__(self, key)\n",
      " |      The count of elements not in the Counter is zero.\n",
      " |  \n",
      " |  __neg__(self)\n",
      " |      Subtracts from an empty counter.  Strips positive and zero counts,\n",
      " |      and flips the sign on negative counts.\n",
      " |  \n",
      " |  __or__(self, other)\n",
      " |      Union is the maximum of value in either of the input counters.\n",
      " |      \n",
      " |      >>> Counter('abbb') | Counter('bcc')\n",
      " |      Counter({'b': 3, 'c': 2, 'a': 1})\n",
      " |  \n",
      " |  __pos__(self)\n",
      " |      Adds an empty counter, effectively stripping negative and zero counts\n",
      " |  \n",
      " |  __reduce__(self)\n",
      " |      Helper for pickle.\n",
      " |  \n",
      " |  __repr__(self)\n",
      " |      Return repr(self).\n",
      " |  \n",
      " |  __sub__(self, other)\n",
      " |      Subtract count, but keep only results with positive counts.\n",
      " |      \n",
      " |      >>> Counter('abbbc') - Counter('bccd')\n",
      " |      Counter({'b': 2, 'a': 1})\n",
      " |  \n",
      " |  copy(self)\n",
      " |      Return a shallow copy.\n",
      " |  \n",
      " |  elements(self)\n",
      " |      Iterator over elements repeating each as many times as its count.\n",
      " |      \n",
      " |      >>> c = Counter('ABCABC')\n",
      " |      >>> sorted(c.elements())\n",
      " |      ['A', 'A', 'B', 'B', 'C', 'C']\n",
      " |      \n",
      " |      # Knuth's example for prime factors of 1836:  2**2 * 3**3 * 17**1\n",
      " |      >>> prime_factors = Counter({2: 2, 3: 3, 17: 1})\n",
      " |      >>> product = 1\n",
      " |      >>> for factor in prime_factors.elements():     # loop over factors\n",
      " |      ...     product *= factor                       # and multiply them\n",
      " |      >>> product\n",
      " |      1836\n",
      " |      \n",
      " |      Note, if an element's count has been set to zero or is a negative\n",
      " |      number, elements() will ignore it.\n",
      " |  \n",
      " |  most_common(self, n=None)\n",
      " |      List the n most common elements and their counts from the most\n",
      " |      common to the least.  If n is None, then list all element counts.\n",
      " |      \n",
      " |      >>> Counter('abcdeabcdabcaba').most_common(3)\n",
      " |      [('a', 5), ('b', 4), ('c', 3)]\n",
      " |  \n",
      " |  subtract(*args, **kwds)\n",
      " |      Like dict.update() but subtracts counts instead of replacing them.\n",
      " |      Counts can be reduced below zero.  Both the inputs and outputs are\n",
      " |      allowed to contain zero and negative counts.\n",
      " |      \n",
      " |      Source can be an iterable, a dictionary, or another Counter instance.\n",
      " |      \n",
      " |      >>> c = Counter('which')\n",
      " |      >>> c.subtract('witch')             # subtract elements from another iterable\n",
      " |      >>> c.subtract(Counter('watch'))    # subtract elements from another counter\n",
      " |      >>> c['h']                          # 2 in which, minus 1 in witch, minus 1 in watch\n",
      " |      0\n",
      " |      >>> c['w']                          # 1 in which, minus 1 in witch, minus 1 in watch\n",
      " |      -1\n",
      " |  \n",
      " |  update(*args, **kwds)\n",
      " |      Like dict.update() but add counts instead of replacing them.\n",
      " |      \n",
      " |      Source can be an iterable, a dictionary, or another Counter instance.\n",
      " |      \n",
      " |      >>> c = Counter('which')\n",
      " |      >>> c.update('witch')           # add elements from another iterable\n",
      " |      >>> d = Counter('watch')\n",
      " |      >>> c.update(d)                 # add elements from another counter\n",
      " |      >>> c['h']                      # four 'h' in which, witch, and watch\n",
      " |      4\n",
      " |  \n",
      " |  ----------------------------------------------------------------------\n",
      " |  Class methods defined here:\n",
      " |  \n",
      " |  fromkeys(iterable, v=None) from builtins.type\n",
      " |      Create a new dictionary with keys from iterable and values set to value.\n",
      " |  \n",
      " |  ----------------------------------------------------------------------\n",
      " |  Data descriptors defined here:\n",
      " |  \n",
      " |  __dict__\n",
      " |      dictionary for instance variables (if defined)\n",
      " |  \n",
      " |  __weakref__\n",
      " |      list of weak references to the object (if defined)\n",
      " |  \n",
      " |  ----------------------------------------------------------------------\n",
      " |  Methods inherited from builtins.dict:\n",
      " |  \n",
      " |  __contains__(self, key, /)\n",
      " |      True if the dictionary has the specified key, else False.\n",
      " |  \n",
      " |  __eq__(self, value, /)\n",
      " |      Return self==value.\n",
      " |  \n",
      " |  __ge__(self, value, /)\n",
      " |      Return self>=value.\n",
      " |  \n",
      " |  __getattribute__(self, name, /)\n",
      " |      Return getattr(self, name).\n",
      " |  \n",
      " |  __getitem__(...)\n",
      " |      x.__getitem__(y) <==> x[y]\n",
      " |  \n",
      " |  __gt__(self, value, /)\n",
      " |      Return self>value.\n",
      " |  \n",
      " |  __iter__(self, /)\n",
      " |      Implement iter(self).\n",
      " |  \n",
      " |  __le__(self, value, /)\n",
      " |      Return self<=value.\n",
      " |  \n",
      " |  __len__(self, /)\n",
      " |      Return len(self).\n",
      " |  \n",
      " |  __lt__(self, value, /)\n",
      " |      Return self<value.\n",
      " |  \n",
      " |  __ne__(self, value, /)\n",
      " |      Return self!=value.\n",
      " |  \n",
      " |  __setitem__(self, key, value, /)\n",
      " |      Set self[key] to value.\n",
      " |  \n",
      " |  __sizeof__(...)\n",
      " |      D.__sizeof__() -> size of D in memory, in bytes\n",
      " |  \n",
      " |  clear(...)\n",
      " |      D.clear() -> None.  Remove all items from D.\n",
      " |  \n",
      " |  get(self, key, default=None, /)\n",
      " |      Return the value for key if key is in the dictionary, else default.\n",
      " |  \n",
      " |  items(...)\n",
      " |      D.items() -> a set-like object providing a view on D's items\n",
      " |  \n",
      " |  keys(...)\n",
      " |      D.keys() -> a set-like object providing a view on D's keys\n",
      " |  \n",
      " |  pop(...)\n",
      " |      D.pop(k[,d]) -> v, remove specified key and return the corresponding value.\n",
      " |      If key is not found, d is returned if given, otherwise KeyError is raised\n",
      " |  \n",
      " |  popitem(...)\n",
      " |      D.popitem() -> (k, v), remove and return some (key, value) pair as a\n",
      " |      2-tuple; but raise KeyError if D is empty.\n",
      " |  \n",
      " |  setdefault(self, key, default=None, /)\n",
      " |      Insert key with a value of default if key is not in the dictionary.\n",
      " |      \n",
      " |      Return the value for key if key is in the dictionary, else default.\n",
      " |  \n",
      " |  values(...)\n",
      " |      D.values() -> an object providing a view on D's values\n",
      " |  \n",
      " |  ----------------------------------------------------------------------\n",
      " |  Static methods inherited from builtins.dict:\n",
      " |  \n",
      " |  __new__(*args, **kwargs) from builtins.type\n",
      " |      Create and return a new object.  See help(type) for accurate signature.\n",
      " |  \n",
      " |  ----------------------------------------------------------------------\n",
      " |  Data and other attributes inherited from builtins.dict:\n",
      " |  \n",
      " |  __hash__ = None\n"
     ]
    },
    {
     "name": "stdout",
     "output_type": "stream",
     "text": [
      "\n"
     ]
    }
   ],
   "source": [
    "help(label_field.vocab.freqs)"
   ]
  },
  {
   "cell_type": "code",
   "execution_count": 31,
   "metadata": {},
   "outputs": [
    {
     "name": "stdout",
     "output_type": "stream",
     "text": [
      "Help on Dataset in module torchtext.data.dataset object:\n",
      "\n",
      "class Dataset(torch.utils.data.dataset.Dataset)\n",
      " |  Dataset(examples, fields, filter_pred=None)\n",
      " |  \n",
      " |  Defines a dataset composed of Examples along with its Fields.\n",
      " |  \n",
      " |  Attributes:\n",
      " |      sort_key (callable): A key to use for sorting dataset examples for batching\n",
      " |          together examples with similar lengths to minimize padding.\n",
      " |      examples (list(Example)): The examples in this dataset.\n",
      " |      fields (dict[str, Field]): Contains the name of each column or field, together\n",
      " |          with the corresponding Field object. Two fields with the same Field object\n",
      " |          will have a shared vocabulary.\n",
      " |  \n",
      " |  Method resolution order:\n",
      " |      Dataset\n",
      " |      torch.utils.data.dataset.Dataset\n",
      " |      builtins.object\n",
      " |  \n",
      " |  Methods defined here:\n",
      " |  \n",
      " |  __getattr__(self, attr)\n",
      " |  \n",
      " |  __getitem__(self, i)\n",
      " |  \n",
      " |  __init__(self, examples, fields, filter_pred=None)\n",
      " |      Create a dataset from a list of Examples and Fields.\n",
      " |      \n",
      " |      Arguments:\n",
      " |          examples: List of Examples.\n",
      " |          fields (List(tuple(str, Field))): The Fields to use in this tuple. The\n",
      " |              string is a field name, and the Field is the associated field.\n",
      " |          filter_pred (callable or None): Use only examples for which\n",
      " |              filter_pred(example) is True, or use all examples if None.\n",
      " |              Default is None.\n",
      " |  \n",
      " |  __iter__(self)\n",
      " |  \n",
      " |  __len__(self)\n",
      " |  \n",
      " |  filter_examples(self, field_names)\n",
      " |      Remove unknown words from dataset examples with respect to given field.\n",
      " |      \n",
      " |      Arguments:\n",
      " |          field_names (list(str)): Within example only the parts with field names in\n",
      " |              field_names will have their unknown words deleted.\n",
      " |  \n",
      " |  split(self, split_ratio=0.7, stratified=False, strata_field='label', random_state=None)\n",
      " |      Create train-test(-valid?) splits from the instance's examples.\n",
      " |      \n",
      " |      Arguments:\n",
      " |          split_ratio (float or List of floats): a number [0, 1] denoting the amount\n",
      " |              of data to be used for the training split (rest is used for validation),\n",
      " |              or a list of numbers denoting the relative sizes of train, test and valid\n",
      " |              splits respectively. If the relative size for valid is missing, only the\n",
      " |              train-test split is returned. Default is 0.7 (for the train set).\n",
      " |          stratified (bool): whether the sampling should be stratified.\n",
      " |              Default is False.\n",
      " |          strata_field (str): name of the examples Field stratified over.\n",
      " |              Default is 'label' for the conventional label field.\n",
      " |          random_state (tuple): the random seed used for shuffling.\n",
      " |              A return value of `random.getstate()`.\n",
      " |      \n",
      " |      Returns:\n",
      " |          Tuple[Dataset]: Datasets for train, validation, and\n",
      " |          test splits in that order, if the splits are provided.\n",
      " |  \n",
      " |  ----------------------------------------------------------------------\n",
      " |  Class methods defined here:\n",
      " |  \n",
      " |  download(root, check=None) from builtins.type\n",
      " |      Download and unzip an online archive (.zip, .gz, or .tgz).\n",
      " |      \n",
      " |      Arguments:\n",
      " |          root (str): Folder to download data to.\n",
      " |          check (str or None): Folder whose existence indicates\n",
      " |              that the dataset has already been downloaded, or\n",
      " |              None to check the existence of root/{cls.name}.\n",
      " |      \n",
      " |      Returns:\n",
      " |          str: Path to extracted dataset.\n",
      " |  \n",
      " |  splits(path=None, root='.data', train=None, validation=None, test=None, **kwargs) from builtins.type\n",
      " |      Create Dataset objects for multiple splits of a dataset.\n",
      " |      \n",
      " |      Arguments:\n",
      " |          path (str): Common prefix of the splits' file paths, or None to use\n",
      " |              the result of cls.download(root).\n",
      " |          root (str): Root dataset storage directory. Default is '.data'.\n",
      " |          train (str): Suffix to add to path for the train set, or None for no\n",
      " |              train set. Default is None.\n",
      " |          validation (str): Suffix to add to path for the validation set, or None\n",
      " |              for no validation set. Default is None.\n",
      " |          test (str): Suffix to add to path for the test set, or None for no test\n",
      " |              set. Default is None.\n",
      " |          Remaining keyword arguments: Passed to the constructor of the\n",
      " |              Dataset (sub)class being used.\n",
      " |      \n",
      " |      Returns:\n",
      " |          Tuple[Dataset]: Datasets for train, validation, and\n",
      " |          test splits in that order, if provided.\n",
      " |  \n",
      " |  ----------------------------------------------------------------------\n",
      " |  Data and other attributes defined here:\n",
      " |  \n",
      " |  sort_key = None\n",
      " |  \n",
      " |  ----------------------------------------------------------------------\n",
      " |  Methods inherited from torch.utils.data.dataset.Dataset:\n",
      " |  \n",
      " |  __add__(self, other)\n",
      " |  \n",
      " |  ----------------------------------------------------------------------\n",
      " |  Data descriptors inherited from torch.utils.data.dataset.Dataset:\n",
      " |  \n",
      " |  __dict__\n",
      " |      dictionary for instance variables (if defined)\n",
      " |  \n",
      " |  __weakref__\n",
      " |      list of weak references to the object (if defined)\n",
      "\n"
     ]
    }
   ],
   "source": [
    "help(dev_iter.data())"
   ]
  },
  {
   "cell_type": "code",
   "execution_count": 52,
   "metadata": {},
   "outputs": [
    {
     "name": "stdout",
     "output_type": "stream",
     "text": [
      "{'batch_size': 1, 'dataset': <torchtext.data.dataset.Dataset object at 0x000002980CA86588>, 'fields': dict_keys(['none', 'gold_label', 'sentence1_tok', 'sentence2_tok']), 'input_fields': ['gold_label', 'sentence1_tok', 'sentence2_tok'], 'target_fields': [], 'gold_label': tensor([3]), 'sentence1_tok': (tensor([[  21,   54,   12, 2406,   26,   45,   17,  493, 5055,    2]]), tensor([10])), 'sentence2_tok': (tensor([[  14, 1323,   12,  700,    0,   26,   45,   17,  493, 5055,  279,  385,\n",
      "          139,  449,    2]]), tensor([15]))}\n",
      "{'batch_size': 1, 'dataset': <torchtext.data.dataset.Dataset object at 0x000002980CA86588>, 'fields': dict_keys(['none', 'gold_label', 'sentence1_tok', 'sentence2_tok']), 'input_fields': ['gold_label', 'sentence1_tok', 'sentence2_tok'], 'target_fields': [], 'gold_label': tensor([1]), 'sentence1_tok': (tensor([[  21,   54,   12, 2406,   26,   45,   17,  493, 5055,    2]]), tensor([10])), 'sentence2_tok': (tensor([[  21,   16,   12,   45, 5055,    2]]), tensor([6]))}\n",
      "{'batch_size': 1, 'dataset': <torchtext.data.dataset.Dataset object at 0x000002980CA86588>, 'fields': dict_keys(['none', 'gold_label', 'sentence1_tok', 'sentence2_tok']), 'input_fields': ['gold_label', 'sentence1_tok', 'sentence2_tok'], 'target_fields': [], 'gold_label': tensor([2]), 'sentence1_tok': (tensor([[  21,   54,   12, 2406,   26,   45,   17,  493, 5055,    2]]), tensor([10])), 'sentence2_tok': (tensor([[  14,   24,   12,  554,   46,    3, 3136,    2]]), tensor([8]))}\n",
      "{'batch_size': 1, 'dataset': <torchtext.data.dataset.Dataset object at 0x000002980CA86588>, 'fields': dict_keys(['none', 'gold_label', 'sentence1_tok', 'sentence2_tok']), 'input_fields': ['gold_label', 'sentence1_tok', 'sentence2_tok'], 'target_fields': [], 'gold_label': tensor([1]), 'sentence1_tok': (tensor([[  21,   23,   68,    5,   32, 1668,   15,   47,   13,    7,  609, 2185,\n",
      "           10,   47,   13,    7,  609,  620,   12,   37,    9,  307,  358,    5,\n",
      "            3, 1223,   10, 2168,   55,  201,    5,    3, 2653,    2]]), tensor([34])), 'sentence2_tok': (tensor([[  21,  161,    5, 1293, 1668, 3765,   55,  201,    2]]), tensor([9]))}\n",
      "{'batch_size': 1, 'dataset': <torchtext.data.dataset.Dataset object at 0x000002980CA86588>, 'fields': dict_keys(['none', 'gold_label', 'sentence1_tok', 'sentence2_tok']), 'input_fields': ['gold_label', 'sentence1_tok', 'sentence2_tok'], 'target_fields': [], 'gold_label': tensor([3]), 'sentence1_tok': (tensor([[  21,   23,   68,    5,   32, 1668,   15,   47,   13,    7,  609, 2185,\n",
      "           10,   47,   13,    7,  609,  620,   12,   37,    9,  307,  358,    5,\n",
      "            3, 1223,   10, 2168,   55,  201,    5,    3, 2653,    2]]), tensor([34])), 'sentence2_tok': (tensor([[  21,  161,   18,    3,    0, 3765,   55,  201,    2]]), tensor([9]))}\n",
      "{'batch_size': 1, 'dataset': <torchtext.data.dataset.Dataset object at 0x000002980CA86588>, 'fields': dict_keys(['none', 'gold_label', 'sentence1_tok', 'sentence2_tok']), 'input_fields': ['gold_label', 'sentence1_tok', 'sentence2_tok'], 'target_fields': [], 'gold_label': tensor([2]), 'sentence1_tok': (tensor([[  21,   23,   68,    5,   32, 1668,   15,   47,   13,    7,  609, 2185,\n",
      "           10,   47,   13,    7,  609,  620,   12,   37,    9,  307,  358,    5,\n",
      "            3, 1223,   10, 2168,   55,  201,    5,    3, 2653,    2]]), tensor([34])), 'sentence2_tok': (tensor([[ 21, 161,   5, 494, 200,  17, 332,   2]]), tensor([8]))}\n",
      "{'batch_size': 1, 'dataset': <torchtext.data.dataset.Dataset object at 0x000002980CA86588>, 'fields': dict_keys(['none', 'gold_label', 'sentence1_tok', 'sentence2_tok']), 'input_fields': ['gold_label', 'sentence1_tok', 'sentence2_tok'], 'target_fields': [], 'gold_label': tensor([2]), 'sentence1_tok': (tensor([[   4,    8,  471,    0,   17,    3, 2371,  287,    3, 5666,    0,  395,\n",
      "         1984,    5,    7,  186,   11,    0]]), tensor([18])), 'sentence2_tok': (tensor([[  4,  16, 600,  38, 479,   5,   3,  96, 489,   2]]), tensor([10]))}\n"
     ]
    }
   ],
   "source": [
    "\n",
    "\n",
    "for i, b in enumerate(dev_iter):\n",
    "    b.gold_label\n",
    "    print(b.__dict__)\n",
    "    if i > 5: break\n",
    "        "
   ]
  },
  {
   "cell_type": "code",
   "execution_count": null,
   "metadata": {},
   "outputs": [],
   "source": []
  },
  {
   "cell_type": "code",
   "execution_count": null,
   "metadata": {},
   "outputs": [],
   "source": []
  },
  {
   "cell_type": "code",
   "execution_count": 13,
   "metadata": {},
   "outputs": [],
   "source": [
    "%load_ext autoreload"
   ]
  },
  {
   "cell_type": "code",
   "execution_count": 14,
   "metadata": {},
   "outputs": [],
   "source": [
    "%autoreload 2"
   ]
  },
  {
   "cell_type": "code",
   "execution_count": 38,
   "metadata": {},
   "outputs": [],
   "source": [
    "if args.encoder == 'sentenceEmbedding':\n",
    "    encoder = sentenceEmbeddingEncoder(token_field.vocab)\n",
    "elif args.encoder == 'convNet':\n",
    "    encoder = convNetEncoder(token_field.vocab)\n",
    "\n",
    "# classifier model MLP_classifier\n",
    "net = MLP_classifier(token_field.vocab, label_field.vocab, encoder)"
   ]
  },
  {
   "cell_type": "code",
   "execution_count": 43,
   "metadata": {
    "scrolled": false
   },
   "outputs": [
    {
     "name": "stdout",
     "output_type": "stream",
     "text": [
      "26530057\n"
     ]
    },
    {
     "data": {
      "application/vnd.jupyter.widget-view+json": {
       "model_id": "073e453e405d4804abe3e45cf3f1c00c",
       "version_major": 2,
       "version_minor": 0
      },
      "text/plain": [
       "HBox(children=(IntProgress(value=0, max=5000), HTML(value='')))"
      ]
     },
     "metadata": {},
     "output_type": "display_data"
    },
    {
     "ename": "KeyboardInterrupt",
     "evalue": "",
     "output_type": "error",
     "traceback": [
      "\u001b[1;31m---------------------------------------------------------------------------\u001b[0m",
      "\u001b[1;31mKeyboardInterrupt\u001b[0m                         Traceback (most recent call last)",
      "\u001b[1;32m<ipython-input-43-03dcab18a303>\u001b[0m in \u001b[0;36m<module>\u001b[1;34m\u001b[0m\n\u001b[0;32m      7\u001b[0m \u001b[1;33m\u001b[0m\u001b[0m\n\u001b[0;32m      8\u001b[0m \u001b[1;32mfor\u001b[0m \u001b[0mepoch\u001b[0m \u001b[1;32min\u001b[0m \u001b[0mrange\u001b[0m\u001b[1;33m(\u001b[0m\u001b[0margs\u001b[0m\u001b[1;33m.\u001b[0m\u001b[0mepochs\u001b[0m\u001b[1;33m)\u001b[0m\u001b[1;33m:\u001b[0m\u001b[1;33m\u001b[0m\u001b[1;33m\u001b[0m\u001b[0m\n\u001b[1;32m----> 9\u001b[1;33m     \u001b[0mtrain\u001b[0m\u001b[1;33m(\u001b[0m\u001b[0mnet\u001b[0m\u001b[1;33m,\u001b[0m \u001b[0mtrain_iter\u001b[0m\u001b[1;33m,\u001b[0m \u001b[0mcriterion\u001b[0m\u001b[1;33m,\u001b[0m \u001b[0moptimiser\u001b[0m\u001b[1;33m,\u001b[0m \u001b[0mepoch\u001b[0m\u001b[1;33m,\u001b[0m \u001b[0mwriter\u001b[0m\u001b[1;33m)\u001b[0m\u001b[1;33m\u001b[0m\u001b[1;33m\u001b[0m\u001b[0m\n\u001b[0m\u001b[0;32m     10\u001b[0m     \u001b[0mevaluate\u001b[0m\u001b[1;33m(\u001b[0m\u001b[0mnet\u001b[0m\u001b[1;33m,\u001b[0m \u001b[0mdev_iter\u001b[0m\u001b[1;33m,\u001b[0m \u001b[0mepoch\u001b[0m\u001b[1;33m,\u001b[0m \u001b[0mwriter\u001b[0m\u001b[1;33m)\u001b[0m\u001b[1;33m\u001b[0m\u001b[1;33m\u001b[0m\u001b[0m\n",
      "\u001b[1;32m<ipython-input-6-ab4d9605f09b>\u001b[0m in \u001b[0;36mtrain\u001b[1;34m(model, iterator, criterion, optimiser, epoch, writer)\u001b[0m\n\u001b[0;32m     20\u001b[0m \u001b[1;33m\u001b[0m\u001b[0m\n\u001b[0;32m     21\u001b[0m         \u001b[0mloss\u001b[0m\u001b[1;33m.\u001b[0m\u001b[0mbackward\u001b[0m\u001b[1;33m(\u001b[0m\u001b[1;33m)\u001b[0m\u001b[1;33m\u001b[0m\u001b[1;33m\u001b[0m\u001b[0m\n\u001b[1;32m---> 22\u001b[1;33m         \u001b[0moptimiser\u001b[0m\u001b[1;33m.\u001b[0m\u001b[0mstep\u001b[0m\u001b[1;33m(\u001b[0m\u001b[1;33m)\u001b[0m\u001b[1;33m\u001b[0m\u001b[1;33m\u001b[0m\u001b[0m\n\u001b[0m\u001b[0;32m     23\u001b[0m         \u001b[0mpbar\u001b[0m\u001b[1;33m.\u001b[0m\u001b[0mupdate\u001b[0m\u001b[1;33m(\u001b[0m \u001b[0mlen\u001b[0m\u001b[1;33m(\u001b[0m\u001b[0mbatch\u001b[0m\u001b[1;33m)\u001b[0m \u001b[1;33m)\u001b[0m \u001b[1;31m# batch_size\u001b[0m\u001b[1;33m\u001b[0m\u001b[1;33m\u001b[0m\u001b[0m\n\u001b[0;32m     24\u001b[0m         \u001b[0mpbar\u001b[0m\u001b[1;33m.\u001b[0m\u001b[0mset_postfix\u001b[0m\u001b[1;33m(\u001b[0m\u001b[0mloss\u001b[0m\u001b[1;33m=\u001b[0m\u001b[0mloss\u001b[0m\u001b[1;33m.\u001b[0m\u001b[0mitem\u001b[0m\u001b[1;33m(\u001b[0m\u001b[1;33m)\u001b[0m\u001b[1;33m)\u001b[0m\u001b[1;33m\u001b[0m\u001b[1;33m\u001b[0m\u001b[0m\n",
      "\u001b[1;32mA:\\Users\\skjal\\Miniconda3\\lib\\site-packages\\torch\\optim\\adam.py\u001b[0m in \u001b[0;36mstep\u001b[1;34m(self, closure)\u001b[0m\n\u001b[0;32m     99\u001b[0m                     \u001b[0mdenom\u001b[0m \u001b[1;33m=\u001b[0m \u001b[0mmax_exp_avg_sq\u001b[0m\u001b[1;33m.\u001b[0m\u001b[0msqrt\u001b[0m\u001b[1;33m(\u001b[0m\u001b[1;33m)\u001b[0m\u001b[1;33m.\u001b[0m\u001b[0madd_\u001b[0m\u001b[1;33m(\u001b[0m\u001b[0mgroup\u001b[0m\u001b[1;33m[\u001b[0m\u001b[1;34m'eps'\u001b[0m\u001b[1;33m]\u001b[0m\u001b[1;33m)\u001b[0m\u001b[1;33m\u001b[0m\u001b[1;33m\u001b[0m\u001b[0m\n\u001b[0;32m    100\u001b[0m                 \u001b[1;32melse\u001b[0m\u001b[1;33m:\u001b[0m\u001b[1;33m\u001b[0m\u001b[1;33m\u001b[0m\u001b[0m\n\u001b[1;32m--> 101\u001b[1;33m                     \u001b[0mdenom\u001b[0m \u001b[1;33m=\u001b[0m \u001b[0mexp_avg_sq\u001b[0m\u001b[1;33m.\u001b[0m\u001b[0msqrt\u001b[0m\u001b[1;33m(\u001b[0m\u001b[1;33m)\u001b[0m\u001b[1;33m.\u001b[0m\u001b[0madd_\u001b[0m\u001b[1;33m(\u001b[0m\u001b[0mgroup\u001b[0m\u001b[1;33m[\u001b[0m\u001b[1;34m'eps'\u001b[0m\u001b[1;33m]\u001b[0m\u001b[1;33m)\u001b[0m\u001b[1;33m\u001b[0m\u001b[1;33m\u001b[0m\u001b[0m\n\u001b[0m\u001b[0;32m    102\u001b[0m \u001b[1;33m\u001b[0m\u001b[0m\n\u001b[0;32m    103\u001b[0m                 \u001b[0mbias_correction1\u001b[0m \u001b[1;33m=\u001b[0m \u001b[1;36m1\u001b[0m \u001b[1;33m-\u001b[0m \u001b[0mbeta1\u001b[0m \u001b[1;33m**\u001b[0m \u001b[0mstate\u001b[0m\u001b[1;33m[\u001b[0m\u001b[1;34m'step'\u001b[0m\u001b[1;33m]\u001b[0m\u001b[1;33m\u001b[0m\u001b[1;33m\u001b[0m\u001b[0m\n",
      "\u001b[1;31mKeyboardInterrupt\u001b[0m: "
     ]
    }
   ],
   "source": [
    "\n",
    "print(sum(p.numel() for p in net.parameters() if p.requires_grad))\n",
    "\n",
    "criterion = nn.CrossEntropyLoss()\n",
    "optimiser = torch.optim.Adam(net.parameters(), lr=args.lr)\n",
    "\n",
    "\n",
    "for epoch in range(args.epochs):\n",
    "    train(net, train_iter, criterion, optimiser, epoch, writer)\n",
    "    evaluate(net, dev_iter, epoch, writer)\n"
   ]
  },
  {
   "cell_type": "code",
   "execution_count": 73,
   "metadata": {},
   "outputs": [
    {
     "name": "stdout",
     "output_type": "stream",
     "text": [
      "[0, 1, 2, 3, 4, 5, 6, 7, 8, 9]\n"
     ]
    }
   ],
   "source": []
  },
  {
   "cell_type": "code",
   "execution_count": null,
   "metadata": {
    "scrolled": false
   },
   "outputs": [],
   "source": []
  },
  {
   "cell_type": "code",
   "execution_count": 94,
   "metadata": {},
   "outputs": [
    {
     "name": "stdout",
     "output_type": "stream",
     "text": [
      "i am here\n"
     ]
    }
   ],
   "source": [
    "a = torch.ones(2, 2)\n",
    "if len(a.shape) == len((2,2)): print('i am here')"
   ]
  },
  {
   "cell_type": "code",
   "execution_count": 88,
   "metadata": {},
   "outputs": [
    {
     "name": "stdout",
     "output_type": "stream",
     "text": [
      "yes\n"
     ]
    }
   ],
   "source": [
    "a = 'BILSTM'\n",
    "if 'bi' in a.lower():\n",
    "    print('yes')"
   ]
  },
  {
   "cell_type": "code",
   "execution_count": null,
   "metadata": {},
   "outputs": [],
   "source": [
    "\n",
    "self.MLP = nn.Sequential(nn.Linear( self.encoder.output_size*4, hidden_size ), # input layer\n",
    "                         nn.ReLU(), # hidden layer\n",
    "                         nn.Linear(hidden_size, len(tag_vocab))) # ouput layer"
   ]
  },
  {
   "cell_type": "code",
   "execution_count": null,
   "metadata": {},
   "outputs": [],
   "source": []
  },
  {
   "cell_type": "code",
   "execution_count": 33,
   "metadata": {},
   "outputs": [
    {
     "data": {
      "image/png": "[encoded data removed]",
      "text/plain": [
       "<Figure size 432x288 with 1 Axes>"
      ]
     },
     "metadata": {
      "needs_background": "light"
     },
     "output_type": "display_data"
    }
   ],
   "source": [
    "import matplotlib.pyplot as plt\n",
    "\n",
    "x = [0, 1, 2, 3, 4]\n",
    "y = [ [0, 1, 2, 3, 4], [5, 6, 7, 8, 9], [9, 8, 7, 6, 5] ]\n",
    "labels = ['foo', 'bar', 'baz']\n",
    "\n",
    "for y_arr, label in zip(y, labels):\n",
    "    plt.plot(x, y_arr, label=label)\n",
    "\n",
    "plt.legend()\n",
    "plt.show()"
   ]
  },
  {
   "cell_type": "code",
   "execution_count": null,
   "metadata": {},
   "outputs": [],
   "source": [
    "#tensorboard.notebook.start('--logdir ./runs')\n",
    "#http://www.erogol.com/use-tensorboard-pytorch/#viewSource"
   ]
  },
  {
   "cell_type": "code",
   "execution_count": null,
   "metadata": {},
   "outputs": [],
   "source": []
  },
  {
   "cell_type": "code",
   "execution_count": 32,
   "metadata": {},
   "outputs": [
    {
     "ename": "NameError",
     "evalue": "name 'encoder' is not defined",
     "output_type": "error",
     "traceback": [
      "\u001b[1;31m---------------------------------------------------------------------------\u001b[0m",
      "\u001b[1;31mNameError\u001b[0m                                 Traceback (most recent call last)",
      "\u001b[1;32m<ipython-input-32-5b06d1f56599>\u001b[0m in \u001b[0;36m<module>\u001b[1;34m\u001b[0m\n\u001b[0;32m     13\u001b[0m     \u001b[0msentence1\u001b[0m \u001b[1;33m=\u001b[0m \u001b[0mplt\u001b[0m\u001b[1;33m.\u001b[0m\u001b[0msubplot\u001b[0m\u001b[1;33m(\u001b[0m\u001b[1;36m211\u001b[0m\u001b[1;33m)\u001b[0m\u001b[1;33m\u001b[0m\u001b[1;33m\u001b[0m\u001b[0m\n\u001b[0;32m     14\u001b[0m     \u001b[0msentence1\u001b[0m\u001b[1;33m.\u001b[0m\u001b[0myaxis\u001b[0m\u001b[1;33m.\u001b[0m\u001b[0mset_major_formatter\u001b[0m\u001b[1;33m(\u001b[0m\u001b[0mmtick\u001b[0m\u001b[1;33m.\u001b[0m\u001b[0mPercentFormatter\u001b[0m\u001b[1;33m(\u001b[0m\u001b[1;33m)\u001b[0m\u001b[1;33m)\u001b[0m\u001b[1;33m\u001b[0m\u001b[1;33m\u001b[0m\u001b[0m\n\u001b[1;32m---> 15\u001b[1;33m     \u001b[0m_\u001b[0m\u001b[1;33m,\u001b[0m \u001b[0mA\u001b[0m \u001b[1;33m=\u001b[0m \u001b[0mencoder\u001b[0m\u001b[1;33m.\u001b[0m\u001b[0mvisualizeExmaple\u001b[0m\u001b[1;33m(\u001b[0m\u001b[0mexample\u001b[0m\u001b[1;33m.\u001b[0m\u001b[0msentence1_tok\u001b[0m\u001b[1;33m)\u001b[0m\u001b[1;33m\u001b[0m\u001b[1;33m\u001b[0m\u001b[0m\n\u001b[0m\u001b[0;32m     16\u001b[0m     \u001b[0mA\u001b[0m \u001b[1;33m=\u001b[0m \u001b[0mtorch\u001b[0m\u001b[1;33m.\u001b[0m\u001b[0msqueeze\u001b[0m\u001b[1;33m(\u001b[0m\u001b[0mA\u001b[0m\u001b[1;33m)\u001b[0m\u001b[1;33m.\u001b[0m\u001b[0mmean\u001b[0m\u001b[1;33m(\u001b[0m\u001b[1;36m0\u001b[0m\u001b[1;33m)\u001b[0m\u001b[1;33m\u001b[0m\u001b[1;33m\u001b[0m\u001b[0m\n\u001b[0;32m     17\u001b[0m     \u001b[0mplt\u001b[0m\u001b[1;33m.\u001b[0m\u001b[0mbar\u001b[0m\u001b[1;33m(\u001b[0m\u001b[0mdata\u001b[0m\u001b[1;33m.\u001b[0m\u001b[0msentence1_tok\u001b[0m\u001b[1;33m,\u001b[0m \u001b[1;33m(\u001b[0m\u001b[0mA\u001b[0m\u001b[1;33m)\u001b[0m\u001b[1;33m.\u001b[0m\u001b[0mdetach\u001b[0m\u001b[1;33m(\u001b[0m\u001b[1;33m)\u001b[0m\u001b[1;33m.\u001b[0m\u001b[0mnumpy\u001b[0m\u001b[1;33m(\u001b[0m\u001b[1;33m)\u001b[0m\u001b[1;33m*\u001b[0m\u001b[1;36m100\u001b[0m\u001b[1;33m)\u001b[0m\u001b[1;33m\u001b[0m\u001b[1;33m\u001b[0m\u001b[0m\n",
      "\u001b[1;31mNameError\u001b[0m: name 'encoder' is not defined"
     ]
    },
    {
     "data": {
      "image/png": "[encoded data removed]",
      "text/plain": [
       "<Figure size 288x288 with 1 Axes>"
      ]
     },
     "metadata": {},
     "output_type": "display_data"
    }
   ],
   "source": [
    "\n",
    "import matplotlib.pyplot as plt\n",
    "import matplotlib.ticker as mtick\n",
    "%matplotlib inline\n",
    "\n",
    "for example, data in zip(dev_iter, dev_iter.data()):\n",
    "\n",
    "    fig = plt.figure(1, figsize=(4,4))\n",
    "    fig.suptitle(\"entailment: {}\".format(data.gold_label), x=2,y=4.15, fontsize=25)\n",
    "    plt.rcParams.update({'font.size': 16})\n",
    "    fig.patch.set_facecolor('white')\n",
    "    \n",
    "    sentence1 = plt.subplot(211)\n",
    "    sentence1.yaxis.set_major_formatter(mtick.PercentFormatter())\n",
    "    _, A = encoder.visualizeExmaple(example.sentence1_tok)\n",
    "    A = torch.squeeze(A).mean(0)\n",
    "    plt.bar(data.sentence1_tok, (A).detach().numpy()*100)\n",
    "    \n",
    "    \n",
    "    sentence2 = plt.subplot(212)\n",
    "    _, A = encoder.visualizeExmaple(example.sentence2_tok)\n",
    "    A = torch.squeeze(A).mean(0)\n",
    "    plt.bar(data.sentence2_tok, (A).detach().numpy()*100)\n",
    "    sentence2.yaxis.set_major_formatter(mtick.PercentFormatter())\n",
    "    \n",
    "    plt.subplots_adjust(left=0, bottom=0, right=4, top=4, wspace=0, hspace=0.1)\n",
    "    break\n",
    "    "
   ]
  },
  {
   "cell_type": "code",
   "execution_count": null,
   "metadata": {},
   "outputs": [],
   "source": []
  }
 ],
 "metadata": {
  "kernelspec": {
   "display_name": "Python 3",
   "language": "python",
   "name": "python3"
  },
  "language_info": {
   "codemirror_mode": {
    "name": "ipython",
    "version": 3
   },
   "file_extension": ".py",
   "mimetype": "text/x-python",
   "name": "python",
   "nbconvert_exporter": "python",
   "pygments_lexer": "ipython3",
   "version": "3.7.1"
  }
 },
 "nbformat": 4,
 "nbformat_minor": 2
}
