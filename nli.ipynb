{
 "cells": [
  {
   "cell_type": "code",
   "execution_count": 1,
   "metadata": {},
   "outputs": [
    {
     "data": {
      "application/javascript": [
       "/*\n",
       "    go to the project directory\n",
       "*/\n",
       "var kernel = IPython.notebook.kernel;\n",
       "var body = document.body,  \n",
       "    attribs = body.attributes;\n",
       "\n",
       "var path = attribs['data-notebook-path'].value\n",
       "console.log('path',path)\n",
       "var command = \"cd  /\" + path.substring(0, path.lastIndexOf(\"/\"));\n",
       "console.log('command', command)\n",
       "\n",
       "kernel.execute(command)\n"
      ],
      "text/plain": [
       "<IPython.core.display.Javascript object>"
      ]
     },
     "metadata": {},
     "output_type": "display_data"
    }
   ],
   "source": [
    "%%javascript\n",
    "/*\n",
    "    go to the project directory\n",
    "*/\n",
    "var kernel = IPython.notebook.kernel;\n",
    "var body = document.body,  \n",
    "    attribs = body.attributes;\n",
    "\n",
    "var path = attribs['data-notebook-path'].value\n",
    "console.log('path',path)\n",
    "var command = \"cd  /\" + path.substring(0, path.lastIndexOf(\"/\"));\n",
    "console.log('command', command)\n",
    "\n",
    "kernel.execute(command)"
   ]
  },
  {
   "cell_type": "code",
   "execution_count": 2,
   "metadata": {},
   "outputs": [
    {
     "name": "stderr",
     "output_type": "stream",
     "text": [
      "A:\\Users\\skjal\\Miniconda3\\lib\\site-packages\\gensim\\utils.py:1197: UserWarning: detected Windows; aliasing chunkize to chunkize_serial\n",
      "  warnings.warn(\"detected Windows; aliasing chunkize to chunkize_serial\")\n"
     ]
    }
   ],
   "source": [
    "import random\n",
    "import argparse\n",
    "import torch\n",
    "import torch.nn.functional as F\n",
    "from torch import nn\n",
    "from torchtext import data, vocab\n",
    "from tqdm import tqdm_notebook as tqdm\n",
    "from sklearn.metrics import f1_score\n",
    "from helpers import *\n",
    "from Models import *\n",
    "torch.manual_seed(1337)\n",
    "random.seed(13370)\n"
   ]
  },
  {
   "cell_type": "code",
   "execution_count": 59,
   "metadata": {},
   "outputs": [],
   "source": [
    "    #parser = argparse.ArgumentParser()\n",
    "    #parser.add_argument('--train', action='store', default=\"./nli5550/nli5550.test.jsonl\")\n",
    "    #parser.add_argument('--dev', action='store', default=\"./nli5550/nli5550.dev.jsonl\")\n",
    "    #parser.add_argument('--embeds', action='store', default=None)\n",
    "    #parser.add_argument('--batch_size', action='store', default=32)\n",
    "    #parser.add_argument('--lr', action='store', default=1e-3)\n",
    "    #parser.add_argument('--epochs', action='store', default=10)\n",
    "    #parser.add_argument('--name', action='store', default=\"MODEL_NAME\")\n",
    "    #parser.add_argument('--encoder', action='store', default=\"sentenceEmbedding\", choices=[\"sentenceEmbedding\", 'convNet'])\n",
    "    #args = parser.parse_args()\n",
    "    \n",
    "args = argparse.Namespace()\n",
    "args.train = \"nli5550/nli5550.train.jsonl\"\n",
    "args.dev = \"nli5550/nli5550.dev.jsonl\"\n",
    "args.batch_size = 32\n",
    "args.lr = 1e-3\n",
    "args.epochs = 10\n",
    "args.name = 'testing-rnnr'\n",
    "args.encoder = \"sentenceEmbedding\" \n",
    "#args.encoder = 'convNet'\n",
    "args.split = 0.15\n",
    "args.embeds = None"
   ]
  },
  {
   "cell_type": "code",
   "execution_count": 54,
   "metadata": {},
   "outputs": [],
   "source": [
    "try:\n",
    "    from tensorboardX import SummaryWriter\n",
    "    writer = SummaryWriter('./runs/{}'.format(args.name))\n",
    "except ImportError:\n",
    "    writer = None"
   ]
  },
  {
   "cell_type": "code",
   "execution_count": 55,
   "metadata": {},
   "outputs": [],
   "source": [
    "\n",
    "token_field = data.Field(sequential=True, batch_first=True, include_lengths=True, \n",
    "                         tokenize=lambda x: x.split(), preprocessing=lambda x: x[1].split())\n",
    "label_field = data.Field(sequential=False, batch_first=True, preprocessing=lambda x: x[1])\n",
    "NaF = ('none', None)\n",
    "\n",
    "fields = [\n",
    "            NaF, #('annotator_labels', label_field), \n",
    "            NaF, # captionID\n",
    "            ('gold_label', label_field), \n",
    "            NaF, # pairID\n",
    "            NaF, #('sentence1', token_field),\n",
    "            NaF, #('sentence1_parse', token_field),\n",
    "            NaF, #('sentence2', token_field),\n",
    "            NaF, #('sentence2_parse', token_field),\n",
    "            ('sentence1_tok', token_field),\n",
    "            ('sentence2_tok', token_field)\n",
    "        ]\n"
   ]
  },
  {
   "cell_type": "code",
   "execution_count": 56,
   "metadata": {},
   "outputs": [],
   "source": [
    "def train(model, iterator, criterion, optimiser, epoch, writer=None):\n",
    "    \n",
    "    model.train()\n",
    "    pbar = tqdm(total=len(iterator.data()))\n",
    "    pbar.set_description('Train')\n",
    "    accuracy, total = 0, 0\n",
    "    total_loss = 0\n",
    "    iterator.init_epoch()\n",
    "    for n, batch in enumerate(iterator):\n",
    "        optimiser.zero_grad()\n",
    "        \n",
    "        predictions = model(batch)\n",
    "        gold = batch.gold_label\n",
    "        loss = criterion(predictions, gold) + model.encoder.P\n",
    "        \n",
    "        predmax = predictions.argmax(dim=-1)\n",
    "        total_loss += loss.item()\n",
    "        accuracy += ( predmax== gold).nonzero().size(0)\n",
    "        total += predmax.size(0)\n",
    "        \n",
    "        loss.backward()\n",
    "        optimiser.step()\n",
    "        pbar.update( len(batch) ) # batch_size\n",
    "        pbar.set_postfix(loss=loss.item())\n",
    "        if writer is not None: writer.add_scalar('Train/Loss', loss.item(), n)\n",
    "        \n",
    "    if writer is not None: writer.add_scalar('Train/total_loss', total_loss, epoch)\n",
    "    if writer is not None: writer.add_scalar('Train/mean_loss', total_loss/total, epoch)\n",
    "    if writer is not None: writer.add_scalar('Train/accuracy', accuracy/total, epoch)\n",
    "    \n",
    "    pbar.close()\n",
    "\n",
    "def evaluate(model, iterator, epoch, writer=None):\n",
    "    model.eval()\n",
    "    accuracy, total = 0, 0\n",
    "    \n",
    "    pbar = tqdm(total=len(iterator.data()))\n",
    "    pbar.set_description('Evaluate')\n",
    "    for n, batch in enumerate(iterator):\n",
    "        predictions = model(batch).argmax(dim=-1)\n",
    "        gold = batch.gold_label\n",
    "        accuracy += (predictions == gold).nonzero().size(0)\n",
    "        total += predictions.size(0)\n",
    "        \n",
    "        pbar.update( len(batch) ) # batch_size\n",
    "        pbar.set_postfix(accuracy=accuracy/total)\n",
    "        \n",
    "    if writer is not None: writer.add_scalar('Dev/accuracy', accuracy/total, epoch)\n",
    "    print(\"> dev accuracy: {}/{} = {}\".format(accuracy, total, accuracy/total))\n",
    "    pbar.close()"
   ]
  },
  {
   "cell_type": "code",
   "execution_count": 60,
   "metadata": {},
   "outputs": [],
   "source": [
    "train_dataset = data.Dataset( load_jsonl_examples(args.train, fields) , fields=fields).split(args.split)[0]\n",
    "dev_dataset = data.Dataset( load_jsonl_examples(args.dev, fields) , fields=fields)"
   ]
  },
  {
   "cell_type": "code",
   "execution_count": 63,
   "metadata": {},
   "outputs": [
    {
     "name": "stdout",
     "output_type": "stream",
     "text": [
      "train_dataset lenght:\t82523\n",
      "dev_dataset lenght:\t10000\n"
     ]
    }
   ],
   "source": [
    "print( 'train_dataset lenght:\\t{}'.format(len(train_dataset)))\n",
    "print( 'dev_dataset lenght:\\t{}'.format(len(dev_dataset)))"
   ]
  },
  {
   "cell_type": "code",
   "execution_count": 9,
   "metadata": {},
   "outputs": [],
   "source": [
    "if args.embeds is not None:\n",
    "    _vecs = vocab.Vectors(args.embeds)\n",
    "else:\n",
    "    _vecs = \"glove.6B.100d\"\n",
    "\n",
    "token_field.build_vocab(train_dataset, vectors=_vecs)\n",
    "label_field.build_vocab(train_dataset)"
   ]
  },
  {
   "cell_type": "code",
   "execution_count": 10,
   "metadata": {},
   "outputs": [],
   "source": [
    "train_iter = data.Iterator(train_dataset, batch_size=args.batch_size, train=True, sort=True, repeat=False, \n",
    "                            sort_key=lambda x: (len(x.sentence1_tok)+len(x.sentence1_tok))/2)\n",
    "dev_iter = data.Iterator(dev_dataset, batch_size=1, train=False, sort=False)"
   ]
  },
  {
   "cell_type": "code",
   "execution_count": null,
   "metadata": {},
   "outputs": [],
   "source": []
  },
  {
   "cell_type": "code",
   "execution_count": 52,
   "metadata": {},
   "outputs": [
    {
     "name": "stdout",
     "output_type": "stream",
     "text": [
      "{'batch_size': 1, 'dataset': <torchtext.data.dataset.Dataset object at 0x000002980CA86588>, 'fields': dict_keys(['none', 'gold_label', 'sentence1_tok', 'sentence2_tok']), 'input_fields': ['gold_label', 'sentence1_tok', 'sentence2_tok'], 'target_fields': [], 'gold_label': tensor([3]), 'sentence1_tok': (tensor([[  21,   54,   12, 2406,   26,   45,   17,  493, 5055,    2]]), tensor([10])), 'sentence2_tok': (tensor([[  14, 1323,   12,  700,    0,   26,   45,   17,  493, 5055,  279,  385,\n",
      "          139,  449,    2]]), tensor([15]))}\n",
      "{'batch_size': 1, 'dataset': <torchtext.data.dataset.Dataset object at 0x000002980CA86588>, 'fields': dict_keys(['none', 'gold_label', 'sentence1_tok', 'sentence2_tok']), 'input_fields': ['gold_label', 'sentence1_tok', 'sentence2_tok'], 'target_fields': [], 'gold_label': tensor([1]), 'sentence1_tok': (tensor([[  21,   54,   12, 2406,   26,   45,   17,  493, 5055,    2]]), tensor([10])), 'sentence2_tok': (tensor([[  21,   16,   12,   45, 5055,    2]]), tensor([6]))}\n",
      "{'batch_size': 1, 'dataset': <torchtext.data.dataset.Dataset object at 0x000002980CA86588>, 'fields': dict_keys(['none', 'gold_label', 'sentence1_tok', 'sentence2_tok']), 'input_fields': ['gold_label', 'sentence1_tok', 'sentence2_tok'], 'target_fields': [], 'gold_label': tensor([2]), 'sentence1_tok': (tensor([[  21,   54,   12, 2406,   26,   45,   17,  493, 5055,    2]]), tensor([10])), 'sentence2_tok': (tensor([[  14,   24,   12,  554,   46,    3, 3136,    2]]), tensor([8]))}\n",
      "{'batch_size': 1, 'dataset': <torchtext.data.dataset.Dataset object at 0x000002980CA86588>, 'fields': dict_keys(['none', 'gold_label', 'sentence1_tok', 'sentence2_tok']), 'input_fields': ['gold_label', 'sentence1_tok', 'sentence2_tok'], 'target_fields': [], 'gold_label': tensor([1]), 'sentence1_tok': (tensor([[  21,   23,   68,    5,   32, 1668,   15,   47,   13,    7,  609, 2185,\n",
      "           10,   47,   13,    7,  609,  620,   12,   37,    9,  307,  358,    5,\n",
      "            3, 1223,   10, 2168,   55,  201,    5,    3, 2653,    2]]), tensor([34])), 'sentence2_tok': (tensor([[  21,  161,    5, 1293, 1668, 3765,   55,  201,    2]]), tensor([9]))}\n",
      "{'batch_size': 1, 'dataset': <torchtext.data.dataset.Dataset object at 0x000002980CA86588>, 'fields': dict_keys(['none', 'gold_label', 'sentence1_tok', 'sentence2_tok']), 'input_fields': ['gold_label', 'sentence1_tok', 'sentence2_tok'], 'target_fields': [], 'gold_label': tensor([3]), 'sentence1_tok': (tensor([[  21,   23,   68,    5,   32, 1668,   15,   47,   13,    7,  609, 2185,\n",
      "           10,   47,   13,    7,  609,  620,   12,   37,    9,  307,  358,    5,\n",
      "            3, 1223,   10, 2168,   55,  201,    5,    3, 2653,    2]]), tensor([34])), 'sentence2_tok': (tensor([[  21,  161,   18,    3,    0, 3765,   55,  201,    2]]), tensor([9]))}\n",
      "{'batch_size': 1, 'dataset': <torchtext.data.dataset.Dataset object at 0x000002980CA86588>, 'fields': dict_keys(['none', 'gold_label', 'sentence1_tok', 'sentence2_tok']), 'input_fields': ['gold_label', 'sentence1_tok', 'sentence2_tok'], 'target_fields': [], 'gold_label': tensor([2]), 'sentence1_tok': (tensor([[  21,   23,   68,    5,   32, 1668,   15,   47,   13,    7,  609, 2185,\n",
      "           10,   47,   13,    7,  609,  620,   12,   37,    9,  307,  358,    5,\n",
      "            3, 1223,   10, 2168,   55,  201,    5,    3, 2653,    2]]), tensor([34])), 'sentence2_tok': (tensor([[ 21, 161,   5, 494, 200,  17, 332,   2]]), tensor([8]))}\n",
      "{'batch_size': 1, 'dataset': <torchtext.data.dataset.Dataset object at 0x000002980CA86588>, 'fields': dict_keys(['none', 'gold_label', 'sentence1_tok', 'sentence2_tok']), 'input_fields': ['gold_label', 'sentence1_tok', 'sentence2_tok'], 'target_fields': [], 'gold_label': tensor([2]), 'sentence1_tok': (tensor([[   4,    8,  471,    0,   17,    3, 2371,  287,    3, 5666,    0,  395,\n",
      "         1984,    5,    7,  186,   11,    0]]), tensor([18])), 'sentence2_tok': (tensor([[  4,  16, 600,  38, 479,   5,   3,  96, 489,   2]]), tensor([10]))}\n"
     ]
    }
   ],
   "source": [
    "\n",
    "\n",
    "for i, b in enumerate(dev_iter):\n",
    "    b.gold_label\n",
    "    print(b.__dict__)\n",
    "    if i > 5: break\n",
    "        "
   ]
  },
  {
   "cell_type": "code",
   "execution_count": null,
   "metadata": {},
   "outputs": [],
   "source": []
  },
  {
   "cell_type": "code",
   "execution_count": null,
   "metadata": {},
   "outputs": [],
   "source": []
  },
  {
   "cell_type": "code",
   "execution_count": 13,
   "metadata": {},
   "outputs": [],
   "source": [
    "%load_ext autoreload"
   ]
  },
  {
   "cell_type": "code",
   "execution_count": 14,
   "metadata": {},
   "outputs": [],
   "source": [
    "%autoreload 2"
   ]
  },
  {
   "cell_type": "code",
   "execution_count": 38,
   "metadata": {},
   "outputs": [],
   "source": [
    "if args.encoder == 'sentenceEmbedding':\n",
    "    encoder = sentenceEmbeddingEncoder(token_field.vocab)\n",
    "elif args.encoder == 'convNet':\n",
    "    encoder = convNetEncoder(token_field.vocab)\n",
    "\n",
    "# classifier model MLP_classifier\n",
    "net = MLP_classifier(token_field.vocab, label_field.vocab, encoder)"
   ]
  },
  {
   "cell_type": "code",
   "execution_count": 43,
   "metadata": {
    "scrolled": false
   },
   "outputs": [
    {
     "name": "stdout",
     "output_type": "stream",
     "text": [
      "26530057\n"
     ]
    },
    {
     "data": {
      "application/vnd.jupyter.widget-view+json": {
       "model_id": "073e453e405d4804abe3e45cf3f1c00c",
       "version_major": 2,
       "version_minor": 0
      },
      "text/plain": [
       "HBox(children=(IntProgress(value=0, max=5000), HTML(value='')))"
      ]
     },
     "metadata": {},
     "output_type": "display_data"
    },
    {
     "ename": "KeyboardInterrupt",
     "evalue": "",
     "output_type": "error",
     "traceback": [
      "\u001b[1;31m---------------------------------------------------------------------------\u001b[0m",
      "\u001b[1;31mKeyboardInterrupt\u001b[0m                         Traceback (most recent call last)",
      "\u001b[1;32m<ipython-input-43-03dcab18a303>\u001b[0m in \u001b[0;36m<module>\u001b[1;34m\u001b[0m\n\u001b[0;32m      7\u001b[0m \u001b[1;33m\u001b[0m\u001b[0m\n\u001b[0;32m      8\u001b[0m \u001b[1;32mfor\u001b[0m \u001b[0mepoch\u001b[0m \u001b[1;32min\u001b[0m \u001b[0mrange\u001b[0m\u001b[1;33m(\u001b[0m\u001b[0margs\u001b[0m\u001b[1;33m.\u001b[0m\u001b[0mepochs\u001b[0m\u001b[1;33m)\u001b[0m\u001b[1;33m:\u001b[0m\u001b[1;33m\u001b[0m\u001b[1;33m\u001b[0m\u001b[0m\n\u001b[1;32m----> 9\u001b[1;33m     \u001b[0mtrain\u001b[0m\u001b[1;33m(\u001b[0m\u001b[0mnet\u001b[0m\u001b[1;33m,\u001b[0m \u001b[0mtrain_iter\u001b[0m\u001b[1;33m,\u001b[0m \u001b[0mcriterion\u001b[0m\u001b[1;33m,\u001b[0m \u001b[0moptimiser\u001b[0m\u001b[1;33m,\u001b[0m \u001b[0mepoch\u001b[0m\u001b[1;33m,\u001b[0m \u001b[0mwriter\u001b[0m\u001b[1;33m)\u001b[0m\u001b[1;33m\u001b[0m\u001b[1;33m\u001b[0m\u001b[0m\n\u001b[0m\u001b[0;32m     10\u001b[0m     \u001b[0mevaluate\u001b[0m\u001b[1;33m(\u001b[0m\u001b[0mnet\u001b[0m\u001b[1;33m,\u001b[0m \u001b[0mdev_iter\u001b[0m\u001b[1;33m,\u001b[0m \u001b[0mepoch\u001b[0m\u001b[1;33m,\u001b[0m \u001b[0mwriter\u001b[0m\u001b[1;33m)\u001b[0m\u001b[1;33m\u001b[0m\u001b[1;33m\u001b[0m\u001b[0m\n",
      "\u001b[1;32m<ipython-input-6-ab4d9605f09b>\u001b[0m in \u001b[0;36mtrain\u001b[1;34m(model, iterator, criterion, optimiser, epoch, writer)\u001b[0m\n\u001b[0;32m     20\u001b[0m \u001b[1;33m\u001b[0m\u001b[0m\n\u001b[0;32m     21\u001b[0m         \u001b[0mloss\u001b[0m\u001b[1;33m.\u001b[0m\u001b[0mbackward\u001b[0m\u001b[1;33m(\u001b[0m\u001b[1;33m)\u001b[0m\u001b[1;33m\u001b[0m\u001b[1;33m\u001b[0m\u001b[0m\n\u001b[1;32m---> 22\u001b[1;33m         \u001b[0moptimiser\u001b[0m\u001b[1;33m.\u001b[0m\u001b[0mstep\u001b[0m\u001b[1;33m(\u001b[0m\u001b[1;33m)\u001b[0m\u001b[1;33m\u001b[0m\u001b[1;33m\u001b[0m\u001b[0m\n\u001b[0m\u001b[0;32m     23\u001b[0m         \u001b[0mpbar\u001b[0m\u001b[1;33m.\u001b[0m\u001b[0mupdate\u001b[0m\u001b[1;33m(\u001b[0m \u001b[0mlen\u001b[0m\u001b[1;33m(\u001b[0m\u001b[0mbatch\u001b[0m\u001b[1;33m)\u001b[0m \u001b[1;33m)\u001b[0m \u001b[1;31m# batch_size\u001b[0m\u001b[1;33m\u001b[0m\u001b[1;33m\u001b[0m\u001b[0m\n\u001b[0;32m     24\u001b[0m         \u001b[0mpbar\u001b[0m\u001b[1;33m.\u001b[0m\u001b[0mset_postfix\u001b[0m\u001b[1;33m(\u001b[0m\u001b[0mloss\u001b[0m\u001b[1;33m=\u001b[0m\u001b[0mloss\u001b[0m\u001b[1;33m.\u001b[0m\u001b[0mitem\u001b[0m\u001b[1;33m(\u001b[0m\u001b[1;33m)\u001b[0m\u001b[1;33m)\u001b[0m\u001b[1;33m\u001b[0m\u001b[1;33m\u001b[0m\u001b[0m\n",
      "\u001b[1;32mA:\\Users\\skjal\\Miniconda3\\lib\\site-packages\\torch\\optim\\adam.py\u001b[0m in \u001b[0;36mstep\u001b[1;34m(self, closure)\u001b[0m\n\u001b[0;32m     99\u001b[0m                     \u001b[0mdenom\u001b[0m \u001b[1;33m=\u001b[0m \u001b[0mmax_exp_avg_sq\u001b[0m\u001b[1;33m.\u001b[0m\u001b[0msqrt\u001b[0m\u001b[1;33m(\u001b[0m\u001b[1;33m)\u001b[0m\u001b[1;33m.\u001b[0m\u001b[0madd_\u001b[0m\u001b[1;33m(\u001b[0m\u001b[0mgroup\u001b[0m\u001b[1;33m[\u001b[0m\u001b[1;34m'eps'\u001b[0m\u001b[1;33m]\u001b[0m\u001b[1;33m)\u001b[0m\u001b[1;33m\u001b[0m\u001b[1;33m\u001b[0m\u001b[0m\n\u001b[0;32m    100\u001b[0m                 \u001b[1;32melse\u001b[0m\u001b[1;33m:\u001b[0m\u001b[1;33m\u001b[0m\u001b[1;33m\u001b[0m\u001b[0m\n\u001b[1;32m--> 101\u001b[1;33m                     \u001b[0mdenom\u001b[0m \u001b[1;33m=\u001b[0m \u001b[0mexp_avg_sq\u001b[0m\u001b[1;33m.\u001b[0m\u001b[0msqrt\u001b[0m\u001b[1;33m(\u001b[0m\u001b[1;33m)\u001b[0m\u001b[1;33m.\u001b[0m\u001b[0madd_\u001b[0m\u001b[1;33m(\u001b[0m\u001b[0mgroup\u001b[0m\u001b[1;33m[\u001b[0m\u001b[1;34m'eps'\u001b[0m\u001b[1;33m]\u001b[0m\u001b[1;33m)\u001b[0m\u001b[1;33m\u001b[0m\u001b[1;33m\u001b[0m\u001b[0m\n\u001b[0m\u001b[0;32m    102\u001b[0m \u001b[1;33m\u001b[0m\u001b[0m\n\u001b[0;32m    103\u001b[0m                 \u001b[0mbias_correction1\u001b[0m \u001b[1;33m=\u001b[0m \u001b[1;36m1\u001b[0m \u001b[1;33m-\u001b[0m \u001b[0mbeta1\u001b[0m \u001b[1;33m**\u001b[0m \u001b[0mstate\u001b[0m\u001b[1;33m[\u001b[0m\u001b[1;34m'step'\u001b[0m\u001b[1;33m]\u001b[0m\u001b[1;33m\u001b[0m\u001b[1;33m\u001b[0m\u001b[0m\n",
      "\u001b[1;31mKeyboardInterrupt\u001b[0m: "
     ]
    }
   ],
   "source": [
    "\n",
    "print(sum(p.numel() for p in net.parameters() if p.requires_grad))\n",
    "\n",
    "criterion = nn.CrossEntropyLoss()\n",
    "optimiser = torch.optim.Adam(net.parameters(), lr=args.lr)\n",
    "\n",
    "\n",
    "for epoch in range(args.epochs):\n",
    "    train(net, train_iter, criterion, optimiser, epoch, writer)\n",
    "    evaluate(net, dev_iter, epoch, writer)\n"
   ]
  },
  {
   "cell_type": "code",
   "execution_count": 73,
   "metadata": {},
   "outputs": [
    {
     "name": "stdout",
     "output_type": "stream",
     "text": [
      "[0, 1, 2, 3, 4, 5, 6, 7, 8, 9]\n"
     ]
    }
   ],
   "source": []
  },
  {
   "cell_type": "code",
   "execution_count": null,
   "metadata": {
    "scrolled": false
   },
   "outputs": [],
   "source": []
  },
  {
   "cell_type": "code",
   "execution_count": 94,
   "metadata": {},
   "outputs": [
    {
     "name": "stdout",
     "output_type": "stream",
     "text": [
      "i am here\n"
     ]
    }
   ],
   "source": [
    "a = torch.ones(2, 2)\n",
    "if len(a.shape) == len((2,2)): print('i am here')"
   ]
  },
  {
   "cell_type": "code",
   "execution_count": 88,
   "metadata": {},
   "outputs": [
    {
     "name": "stdout",
     "output_type": "stream",
     "text": [
      "yes\n"
     ]
    }
   ],
   "source": [
    "a = 'BILSTM'\n",
    "if 'bi' in a.lower():\n",
    "    print('yes')"
   ]
  },
  {
   "cell_type": "code",
   "execution_count": null,
   "metadata": {},
   "outputs": [],
   "source": [
    "\n",
    "self.MLP = nn.Sequential(nn.Linear( self.encoder.output_size*4, hidden_size ), # input layer\n",
    "                         nn.ReLU(), # hidden layer\n",
    "                         nn.Linear(hidden_size, len(tag_vocab))) # ouput layer"
   ]
  },
  {
   "cell_type": "code",
   "execution_count": null,
   "metadata": {},
   "outputs": [],
   "source": []
  },
  {
   "cell_type": "code",
   "execution_count": null,
   "metadata": {},
   "outputs": [],
   "source": []
  },
  {
   "cell_type": "code",
   "execution_count": null,
   "metadata": {},
   "outputs": [],
   "source": [
    "#tensorboard.notebook.start('--logdir ./runs')\n",
    "#http://www.erogol.com/use-tensorboard-pytorch/#viewSource"
   ]
  },
  {
   "cell_type": "code",
   "execution_count": null,
   "metadata": {},
   "outputs": [],
   "source": []
  },
  {
   "cell_type": "code",
   "execution_count": 513,
   "metadata": {},
   "outputs": [
    {
     "data": {
      "image/png": "[encoded data removed]",
      "text/plain": [
       "<Figure size 288x288 with 2 Axes>"
      ]
     },
     "metadata": {},
     "output_type": "display_data"
    }
   ],
   "source": [
    "\n",
    "import matplotlib.pyplot as plt\n",
    "import matplotlib.ticker as mtick\n",
    "%matplotlib inline\n",
    "\n",
    "for example, data in zip(dev_iter, dev_iter.data()):\n",
    "\n",
    "    fig = plt.figure(1, figsize=(4,4))\n",
    "    fig.suptitle(\"entailment: {}\".format(data.gold_label), x=2,y=4.15, fontsize=25)\n",
    "    plt.rcParams.update({'font.size': 16})\n",
    "    fig.patch.set_facecolor('white')\n",
    "    \n",
    "    sentence1 = plt.subplot(211)\n",
    "    sentence1.yaxis.set_major_formatter(mtick.PercentFormatter())\n",
    "    _, A = encoder.visualizeExmaple(example.sentence1_tok)\n",
    "    A = torch.squeeze(A).mean(0)\n",
    "    plt.bar(data.sentence1_tok, (A).detach().numpy()*100)\n",
    "    \n",
    "    \n",
    "    sentence2 = plt.subplot(212)\n",
    "    _, A = encoder.visualizeExmaple(example.sentence2_tok)\n",
    "    A = torch.squeeze(A).mean(0)\n",
    "    plt.bar(data.sentence2_tok, (A).detach().numpy()*100)\n",
    "    sentence2.yaxis.set_major_formatter(mtick.PercentFormatter())\n",
    "    \n",
    "    plt.subplots_adjust(left=0, bottom=0, right=4, top=4, wspace=0, hspace=0.1)\n",
    "    break\n",
    "    "
   ]
  }
 ],
 "metadata": {
  "kernelspec": {
   "display_name": "Python 3",
   "language": "python",
   "name": "python3"
  },
  "language_info": {
   "codemirror_mode": {
    "name": "ipython",
    "version": 3
   },
   "file_extension": ".py",
   "mimetype": "text/x-python",
   "name": "python",
   "nbconvert_exporter": "python",
   "pygments_lexer": "ipython3",
   "version": "3.7.1"
  }
 },
 "nbformat": 4,
 "nbformat_minor": 2
}
