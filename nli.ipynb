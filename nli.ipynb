{
 "cells": [
  {
   "cell_type": "code",
   "execution_count": 1,
   "metadata": {},
   "outputs": [
    {
     "data": {
      "application/javascript": [
       "/*\n",
       "    go to the project directory\n",
       "*/\n",
       "var kernel = IPython.notebook.kernel;\n",
       "var body = document.body,  \n",
       "    attribs = body.attributes;\n",
       "\n",
       "var path = attribs['data-notebook-path'].value\n",
       "console.log('path',path)\n",
       "var command = \"cd  /\" + path.substring(0, path.lastIndexOf(\"/\"));\n",
       "console.log('command', command)\n",
       "kernel.execute(command);\n"
      ],
      "text/plain": [
       "<IPython.core.display.Javascript object>"
      ]
     },
     "metadata": {},
     "output_type": "display_data"
    }
   ],
   "source": [
    "%%javascript\n",
    "/*\n",
    "    go to the project directory\n",
    "*/\n",
    "var kernel = IPython.notebook.kernel;\n",
    "var body = document.body,  \n",
    "    attribs = body.attributes;\n",
    "\n",
    "var path = attribs['data-notebook-path'].value\n",
    "console.log('path',path)\n",
    "var command = \"cd  /\" + path.substring(0, path.lastIndexOf(\"/\"));\n",
    "console.log('command', command)\n",
    "kernel.execute(command);"
   ]
  },
  {
   "cell_type": "code",
   "execution_count": 2,
   "metadata": {},
   "outputs": [
    {
     "name": "stderr",
     "output_type": "stream",
     "text": [
      "A:\\Users\\skjal\\Miniconda3\\lib\\site-packages\\gensim\\utils.py:1197: UserWarning: detected Windows; aliasing chunkize to chunkize_serial\n",
      "  warnings.warn(\"detected Windows; aliasing chunkize to chunkize_serial\")\n"
     ]
    }
   ],
   "source": [
    "import random\n",
    "import argparse\n",
    "import torch\n",
    "import torch.nn.functional as F\n",
    "from torch import nn\n",
    "from torchtext import data, vocab\n",
    "from tqdm import tqdm_notebook as tqdm\n",
    "from sklearn.metrics import f1_score\n",
    "from helpers import *\n",
    "from Models import *\n",
    "torch.manual_seed(1337)\n",
    "random.seed(13370)\n"
   ]
  },
  {
   "cell_type": "code",
   "execution_count": 3,
   "metadata": {},
   "outputs": [],
   "source": [
    "    #parser = argparse.ArgumentParser()\n",
    "    #parser.add_argument('--train', action='store', default=\"./nli5550/nli5550.test.jsonl\")\n",
    "    #parser.add_argument('--dev', action='store', default=\"./nli5550/nli5550.dev.jsonl\")\n",
    "    #parser.add_argument('--embeds', action='store', default=None)\n",
    "    #parser.add_argument('--batch_size', action='store', default=32)\n",
    "    #parser.add_argument('--lr', action='store', default=1e-3)\n",
    "    #parser.add_argument('--epochs', action='store', default=10)\n",
    "    #parser.add_argument('--name', action='store', default=\"MODEL_NAME\")\n",
    "    #parser.add_argument('--encoder', action='store', default=\"sentenceEmbedding\", choices=[\"sentenceEmbedding\", 'convNet'])\n",
    "    #args = parser.parse_args()\n",
    "    \n",
    "args = argparse.Namespace()\n",
    "args.train = \"nli5550/nli5550.test.jsonl\"\n",
    "args.dev = \"nli5550/nli5550.dev.jsonl\"\n",
    "args.batch_size = 32\n",
    "args.lr = 1e-3\n",
    "args.epochs = 10\n",
    "args.name = 'model_name'\n",
    "args.encoder = \"sentenceEmbedding\"\n",
    "args.embeds = None"
   ]
  },
  {
   "cell_type": "code",
   "execution_count": 4,
   "metadata": {},
   "outputs": [],
   "source": [
    "try:\n",
    "    from tensorboardX import SummaryWriter\n",
    "    writer = SummaryWriter('./runs/{}'.format(args.name))\n",
    "except ImportError:\n",
    "    writer = None"
   ]
  },
  {
   "cell_type": "code",
   "execution_count": 6,
   "metadata": {},
   "outputs": [],
   "source": [
    "\n",
    "token_field = data.Field(sequential=True, batch_first=True, include_lengths=True, \n",
    "                         tokenize=lambda x: x.split(), preprocessing=lambda x: x[1].split())\n",
    "label_field = data.Field(sequential=False, batch_first=True, preprocessing=lambda x: x[1])\n",
    "NaF = ('none', None)\n",
    "\n",
    "fields = [\n",
    "            NaF, #('annotator_labels', label_field), \n",
    "            NaF, # captionID\n",
    "            ('gold_label', label_field), \n",
    "            NaF, # pairID\n",
    "            NaF, #('sentence1', token_field),\n",
    "            NaF, #('sentence1_parse', token_field),\n",
    "            NaF, #('sentence2', token_field),\n",
    "            NaF, #('sentence2_parse', token_field),\n",
    "            ('sentence1_tok', token_field),\n",
    "            ('sentence2_tok', token_field)\n",
    "        ]\n"
   ]
  },
  {
   "cell_type": "code",
   "execution_count": 5,
   "metadata": {},
   "outputs": [],
   "source": [
    "def train(model, iterator, criterion, optimiser, epoch, writer=None):\n",
    "    \n",
    "    model.train()\n",
    "    pbar = tqdm(total=len(iterator.data()))\n",
    "    accuracy, total = 0, 0\n",
    "    total_loss = 0\n",
    "    iterator.init_epoch()\n",
    "    for n, batch in enumerate(iterator):\n",
    "        optimiser.zero_grad()\n",
    "        \n",
    "        predictions = model(batch)\n",
    "        gold = batch.gold_label\n",
    "        loss = criterion(predictions, gold)\n",
    "        \n",
    "        predmax = predictions.argmax(dim=-1)\n",
    "        total_loss += loss.item()\n",
    "        accuracy += ( predmax== gold).nonzero().size(0)\n",
    "        total += predmax.size(0)\n",
    "        \n",
    "        loss.backward()\n",
    "        optimiser.step()\n",
    "        pbar.update( len(batch) ) # batch_size\n",
    "        pbar.set_postfix(loss=loss.item())\n",
    "        if writer is not None: writer.add_scalar('Train/Loss', loss, n)\n",
    "        \n",
    "    if writer is not None: writer.add_scalar('Train/total_loss', total_loss, epoch)\n",
    "    if writer is not None: writer.add_scalar('Train/mean_loss', total_loss/total, epoch)\n",
    "    if writer is not None: writer.add_scalar('Train/accuracy', accuracy/total, epoch)\n",
    "    \n",
    "    pbar.close()\n",
    "\n",
    "def evaluate(model, iterator, epoch, writer=None):\n",
    "    model.eval()\n",
    "    accuracy, total = 0, 0\n",
    "    total_loss = 0\n",
    "    \n",
    "    for n, batch in enumerate(iterator):\n",
    "        predictions = model(batch).argmax(dim=-1)\n",
    "        gold = batch.gold_label\n",
    "        accuracy += (predictions == gold).nonzero().size(0)\n",
    "        total += predictions.size(0)\n",
    "        \n",
    "    if writer is not None: writer.add_scalar('Dev/accuracy', accuracy/total, epoch)\n",
    "    print(\"> dev accuracy: {}/{} = {}\".format(accuracy, total, accuracy/total))"
   ]
  },
  {
   "cell_type": "code",
   "execution_count": null,
   "metadata": {},
   "outputs": [],
   "source": []
  },
  {
   "cell_type": "code",
   "execution_count": 7,
   "metadata": {},
   "outputs": [],
   "source": [
    "train_dataset = data.Dataset( load_jsonl_examples(args.train, fields) , fields=fields)\n",
    "dev_dataset = data.Dataset( load_jsonl_examples(args.dev, fields) , fields=fields)"
   ]
  },
  {
   "cell_type": "code",
   "execution_count": 8,
   "metadata": {},
   "outputs": [
    {
     "name": "stdout",
     "output_type": "stream",
     "text": [
      "train_dataset lenght:\t10000\n",
      "dev_dataset lenght:\t10000\n"
     ]
    }
   ],
   "source": [
    "print( 'train_dataset lenght:\\t{}'.format(len(train_dataset)))\n",
    "print( 'dev_dataset lenght:\\t{}'.format(len(dev_dataset)))"
   ]
  },
  {
   "cell_type": "code",
   "execution_count": 10,
   "metadata": {},
   "outputs": [],
   "source": [
    "if args.embeds is not None:\n",
    "    _vecs = vocab.Vectors(args.embeds)\n",
    "else:\n",
    "    _vecs = \"glove.6B.100d\"\n",
    "\n",
    "token_field.build_vocab(train_dataset, vectors=_vecs)\n",
    "label_field.build_vocab(train_dataset)"
   ]
  },
  {
   "cell_type": "code",
   "execution_count": 11,
   "metadata": {},
   "outputs": [],
   "source": [
    "train_iter = data.Iterator(train_dataset, batch_size=args.batch_size, train=True, sort=True, repeat=False, \n",
    "                            sort_key=lambda x: (len(x.sentence1_tok)+len(x.sentence1_tok))/2)\n",
    "dev_iter = data.Iterator(dev_dataset, batch_size=1, train=False, sort=False)"
   ]
  },
  {
   "cell_type": "code",
   "execution_count": 12,
   "metadata": {},
   "outputs": [],
   "source": [
    "if args.encoder == 'sentenceEmbedding':\n",
    "    encoder = sentenceEmbeddingEncoder(token_field.vocab)\n",
    "elif args.encoder == 'convNet':\n",
    "    encoder = convNetEncoder(token_field.vocab)\n",
    "\n",
    "# classifier model MLP_classifier\n",
    "net = MLP_classifier(token_field.vocab, label_field.vocab, encoder)"
   ]
  },
  {
   "cell_type": "code",
   "execution_count": null,
   "metadata": {
    "scrolled": false
   },
   "outputs": [
    {
     "name": "stdout",
     "output_type": "stream",
     "text": [
      "26530057\n"
     ]
    },
    {
     "data": {
      "application/vnd.jupyter.widget-view+json": {
       "model_id": "a22a5b691da648da9547ccc9957540b6",
       "version_major": 2,
       "version_minor": 0
      },
      "text/plain": [
       "HBox(children=(IntProgress(value=0, max=10000), HTML(value='')))"
      ]
     },
     "metadata": {},
     "output_type": "display_data"
    }
   ],
   "source": [
    "\n",
    "print(sum(p.numel() for p in net.parameters() if p.requires_grad))\n",
    "\n",
    "criterion = nn.CrossEntropyLoss()\n",
    "optimiser = torch.optim.Adam(net.parameters(), lr=args.lr)\n",
    "\n",
    "\n",
    "for epoch in range(args.epochs):\n",
    "    train(net, train_iter, criterion, optimiser, epoch, writer)\n",
    "    evaluate(net, dev_iter, epoch, writer)\n",
    "\n"
   ]
  },
  {
   "cell_type": "code",
   "execution_count": null,
   "metadata": {},
   "outputs": [],
   "source": []
  },
  {
   "cell_type": "code",
   "execution_count": null,
   "metadata": {
    "scrolled": false
   },
   "outputs": [],
   "source": []
  },
  {
   "cell_type": "code",
   "execution_count": null,
   "metadata": {},
   "outputs": [],
   "source": []
  },
  {
   "cell_type": "code",
   "execution_count": null,
   "metadata": {},
   "outputs": [],
   "source": [
    "#tensorboard.notebook.start('--logdir ./runs')\n",
    "#http://www.erogol.com/use-tensorboard-pytorch/#viewSource"
   ]
  },
  {
   "cell_type": "code",
   "execution_count": null,
   "metadata": {},
   "outputs": [],
   "source": []
  }
 ],
 "metadata": {
  "kernelspec": {
   "display_name": "Python 3",
   "language": "python",
   "name": "python3"
  },
  "language_info": {
   "codemirror_mode": {
    "name": "ipython",
    "version": 3
   },
   "file_extension": ".py",
   "mimetype": "text/x-python",
   "name": "python",
   "nbconvert_exporter": "python",
   "pygments_lexer": "ipython3",
   "version": "3.7.1"
  }
 },
 "nbformat": 4,
 "nbformat_minor": 2
}
